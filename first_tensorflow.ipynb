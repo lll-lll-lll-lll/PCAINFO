{
  "nbformat": 4,
  "nbformat_minor": 0,
  "metadata": {
    "colab": {
      "name": "first-tensorflow.ipynb",
      "provenance": [],
      "authorship_tag": "ABX9TyPZskm4eZEXvMJL08dEwg1P",
      "include_colab_link": true
    },
    "kernelspec": {
      "name": "python3",
      "display_name": "Python 3"
    },
    "language_info": {
      "name": "python"
    }
  },
  "cells": [
    {
      "cell_type": "markdown",
      "metadata": {
        "id": "view-in-github",
        "colab_type": "text"
      },
      "source": [
        "<a href=\"https://colab.research.google.com/github/lll-lll-lll-lll/PCAINFO/blob/master/first_tensorflow.ipynb\" target=\"_parent\"><img src=\"https://colab.research.google.com/assets/colab-badge.svg\" alt=\"Open In Colab\"/></a>"
      ]
    },
    {
      "cell_type": "markdown",
      "source": [
        "# 画像分類\n",
        "画像分類の基本的な考え方について<br>\n",
        "まず、分類対象を知る必要がある。つまり画像内に何が写っているのか、分類対象間の違いを認識する必要がある<br>\n",
        "例えば、人と犬を分類したいとする。ここでは人も犬も知らないことを前提とする<br>\n",
        "そこで渡された写真を見分けるにはどういう規則性がその写真に埋め込まれているか。それが分かれば犬と人を分類できる。<br>\n",
        "コンピュータも同じで大量に画像データを渡されてその画像内の規則性を見つけることができれば、あとはその規則性に基づいて分類していくだけで良い<br>\n",
        "この規則性のことを**特徴量**と言う。言い換えると見分けるための規則性を数値にしたもの<br>\n",
        "一旦特徴量が定まればその特徴量を使って計算するだけですむ。<br>\n"
      ],
      "metadata": {
        "id": "eHn7Vs36d7HG"
      }
    },
    {
      "cell_type": "markdown",
      "source": [
        "# 特徴量\n",
        "この特徴量をどうやって発見すれば良いか。そこで超使えるのがDeep Learningである<br>\n",
        "ディープラーニング(以降DL)は学習方法の一種でNN(ニューラルネットワーク)と呼ばれるものを何層にも重ねてモデルの学習に使う<br>\n"
      ],
      "metadata": {
        "id": "dbstlKxQfWIF"
      }
    },
    {
      "cell_type": "markdown",
      "source": [
        "# ディープラーニング\n",
        "DLの学習の進め方は人間と同じ<br>\n",
        "まず仮説DNNを作成する学習用の大量の画像データをDNNにかけて計算し得られた結果と正解を比べる。<br>\n",
        "誤差がある場合は最適な特徴量ではない（正しい規則性を見つけられていない）ので誤差が減るように特徴量をいじる<br>\n",
        "これを繰り返し誤差を減らしていく<br>\n"
      ],
      "metadata": {
        "id": "J6s9J-h3gGrq"
      }
    },
    {
      "cell_type": "code",
      "source": [
        ""
      ],
      "metadata": {
        "id": "K6mfRFbifVtw"
      },
      "execution_count": null,
      "outputs": []
    }
  ]
}